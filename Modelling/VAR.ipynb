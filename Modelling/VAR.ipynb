{
 "cells": [
  {
   "cell_type": "code",
   "execution_count": 1,
   "id": "61d2e6aa",
   "metadata": {},
   "outputs": [],
   "source": [
    "import warnings\n",
    "warnings.filterwarnings('ignore')\n",
    "\n",
    "import os \n",
    "import pandas as pd\n",
    "import matplotlib.pyplot as plt \n",
    "import numpy  as np\n",
    "from tqdm import tqdm \n",
    "import time\n",
    "\n",
    "from statsmodels.tsa.ar_model import AutoReg\n",
    "from statsmodels.tsa.arima.model import ARIMA\n",
    "from statsmodels.graphics.tsaplots import plot_acf, plot_pacf\n",
    "from sklearn.metrics import mean_squared_error"
   ]
  },
  {
   "cell_type": "code",
   "execution_count": 2,
   "id": "1f74d12d",
   "metadata": {},
   "outputs": [
    {
     "data": {
      "text/plain": [
       "['.DS_Store',\n",
       " 'test_data_unscaled.csv',\n",
       " 'DataPreparation (1).ipynb',\n",
       " 'Modelling_LSTM.ipynb',\n",
       " 'train_data_unscaled.csv',\n",
       " 'Dataset.ipynb',\n",
       " 'household_power_consumption.txt',\n",
       " 'Univariate_Modelling.ipynb',\n",
       " 'Exploratory_Data_Analysis.ipynb',\n",
       " '.ipynb_checkpoints']"
      ]
     },
     "execution_count": 2,
     "metadata": {},
     "output_type": "execute_result"
    }
   ],
   "source": [
    "base_dir = '/Users/rohitsharma/Desktop'\n",
    "data_dir = os.path.join(base_dir, 'Dataset')\n",
    "os.listdir(data_dir)"
   ]
  },
  {
   "cell_type": "code",
   "execution_count": 3,
   "id": "ad9b23dc",
   "metadata": {},
   "outputs": [],
   "source": [
    "train_data = pd.read_csv(os.path.join(data_dir, 'train_data_unscaled.csv'))\n",
    "test_data = pd.read_csv(os.path.join(data_dir, 'test_data_unscaled.csv'))"
   ]
  },
  {
   "cell_type": "code",
   "execution_count": 4,
   "id": "11d40e8e",
   "metadata": {},
   "outputs": [],
   "source": [
    "train_data['DateTime'] = pd.to_datetime(train_data['DateTime'])\n",
    "test_data['DateTime'] = pd.to_datetime(test_data['DateTime'])\n",
    "\n",
    "train_data.set_index('DateTime', inplace=True)\n",
    "test_data.set_index('DateTime', inplace=True)"
   ]
  },
  {
   "cell_type": "code",
   "execution_count": 5,
   "id": "704b336d",
   "metadata": {},
   "outputs": [
    {
     "name": "stdout",
     "output_type": "stream",
     "text": [
      "Train Data Size : 1001\n",
      "Test Data Size : 434\n"
     ]
    }
   ],
   "source": [
    "print(f\"Train Data Size : {train_data.shape[0]}\")\n",
    "print(f\"Test Data Size : {test_data.shape[0]}\")"
   ]
  },
  {
   "cell_type": "code",
   "execution_count": 6,
   "id": "df1586e4",
   "metadata": {},
   "outputs": [
    {
     "data": {
      "text/html": [
       "<div>\n",
       "<style scoped>\n",
       "    .dataframe tbody tr th:only-of-type {\n",
       "        vertical-align: middle;\n",
       "    }\n",
       "\n",
       "    .dataframe tbody tr th {\n",
       "        vertical-align: top;\n",
       "    }\n",
       "\n",
       "    .dataframe thead th {\n",
       "        text-align: right;\n",
       "    }\n",
       "</style>\n",
       "<table border=\"1\" class=\"dataframe\">\n",
       "  <thead>\n",
       "    <tr style=\"text-align: right;\">\n",
       "      <th></th>\n",
       "      <th>Global_active_power</th>\n",
       "      <th>Global_reactive_power</th>\n",
       "      <th>Voltage</th>\n",
       "      <th>Global_intensity</th>\n",
       "      <th>Sub_metering_1</th>\n",
       "      <th>Sub_metering_2</th>\n",
       "      <th>Sub_metering_3</th>\n",
       "      <th>sub_metering_rem</th>\n",
       "    </tr>\n",
       "    <tr>\n",
       "      <th>DateTime</th>\n",
       "      <th></th>\n",
       "      <th></th>\n",
       "      <th></th>\n",
       "      <th></th>\n",
       "      <th></th>\n",
       "      <th></th>\n",
       "      <th></th>\n",
       "      <th></th>\n",
       "    </tr>\n",
       "  </thead>\n",
       "  <tbody>\n",
       "    <tr>\n",
       "      <th>2006-12-18</th>\n",
       "      <td>1.530435</td>\n",
       "      <td>0.112356</td>\n",
       "      <td>241.231694</td>\n",
       "      <td>6.421667</td>\n",
       "      <td>0.738194</td>\n",
       "      <td>1.820139</td>\n",
       "      <td>9.734722</td>\n",
       "      <td>13.214190</td>\n",
       "    </tr>\n",
       "    <tr>\n",
       "      <th>2006-12-19</th>\n",
       "      <td>1.157079</td>\n",
       "      <td>0.104821</td>\n",
       "      <td>241.999313</td>\n",
       "      <td>4.926389</td>\n",
       "      <td>0.582639</td>\n",
       "      <td>5.279167</td>\n",
       "      <td>4.303472</td>\n",
       "      <td>9.119375</td>\n",
       "    </tr>\n",
       "  </tbody>\n",
       "</table>\n",
       "</div>"
      ],
      "text/plain": [
       "            Global_active_power  Global_reactive_power     Voltage  \\\n",
       "DateTime                                                             \n",
       "2006-12-18             1.530435               0.112356  241.231694   \n",
       "2006-12-19             1.157079               0.104821  241.999313   \n",
       "\n",
       "            Global_intensity  Sub_metering_1  Sub_metering_2  Sub_metering_3  \\\n",
       "DateTime                                                                       \n",
       "2006-12-18          6.421667        0.738194        1.820139        9.734722   \n",
       "2006-12-19          4.926389        0.582639        5.279167        4.303472   \n",
       "\n",
       "            sub_metering_rem  \n",
       "DateTime                      \n",
       "2006-12-18         13.214190  \n",
       "2006-12-19          9.119375  "
      ]
     },
     "execution_count": 6,
     "metadata": {},
     "output_type": "execute_result"
    }
   ],
   "source": [
    "train_data.head(2)"
   ]
  },
  {
   "cell_type": "code",
   "execution_count": 7,
   "id": "38876d5e",
   "metadata": {},
   "outputs": [
    {
     "name": "stdout",
     "output_type": "stream",
     "text": [
      "Global_reactive_power is not stationary\n"
     ]
    }
   ],
   "source": [
    "from statsmodels.tsa.api import VAR\n",
    "from statsmodels.tsa.stattools import adfuller\n",
    "\n",
    "def check_stationarity(df):\n",
    "    for column in df:\n",
    "        result = adfuller(df[column])\n",
    "        if result[1] > 0.05:  \n",
    "            print(f\"{column} is not stationary\")\n",
    "            return False\n",
    "    return True\n",
    "\n",
    "if not check_stationarity(train_data):\n",
    "    train_data_diff = train_data.diff().dropna()\n",
    "else:\n",
    "    train_data_diff = train_data"
   ]
  },
  {
   "cell_type": "code",
   "execution_count": null,
   "id": "a0339851",
   "metadata": {},
   "outputs": [],
   "source": []
  },
  {
   "cell_type": "code",
   "execution_count": 8,
   "id": "40a4b233",
   "metadata": {},
   "outputs": [
    {
     "name": "stdout",
     "output_type": "stream",
     "text": [
      "            Global_active_power  Global_reactive_power     Voltage  \\\n",
      "DateTime                                                             \n",
      "2009-09-14             0.980385               0.164410  240.284558   \n",
      "2009-09-15             0.938343               0.152546  240.261426   \n",
      "2009-09-16             0.934860               0.144907  240.218978   \n",
      "2009-09-17             0.944285               0.139638  240.180222   \n",
      "2009-09-18             0.957742               0.135817  240.151158   \n",
      "\n",
      "            Global_intensity  Sub_metering_1  Sub_metering_2  Sub_metering_3  \\\n",
      "DateTime                                                                       \n",
      "2009-09-14          4.227515        1.358673        1.320824        5.903689   \n",
      "2009-09-15          4.045166        1.178369        1.263670        5.528950   \n",
      "2009-09-16          4.023752        1.118597        1.268495        5.474270   \n",
      "2009-09-17          4.057320        1.101897        1.277796        5.502046   \n",
      "2009-09-18          4.108911        1.099744        1.289369        5.550634   \n",
      "\n",
      "            sub_metering_rem  \n",
      "DateTime                      \n",
      "2009-09-14          7.756570  \n",
      "2009-09-15          7.668069  \n",
      "2009-09-16          7.719639  \n",
      "2009-09-17          7.856341  \n",
      "2009-09-18          8.022618  \n"
     ]
    },
    {
     "name": "stderr",
     "output_type": "stream",
     "text": [
      "/Users/rohitsharma/anaconda3/lib/python3.11/site-packages/statsmodels/tsa/base/tsa_model.py:473: ValueWarning: No frequency information was provided, so inferred frequency D will be used.\n",
      "  self._init_dates(dates, freq)\n"
     ]
    }
   ],
   "source": [
    "model = VAR(train_data)\n",
    "model_fitted = model.fit(1)  \n",
    "\n",
    "lag_order = model_fitted.k_ar\n",
    "forecasted_values = model_fitted.forecast(train_data.values[-lag_order:], steps=len(test_data))\n",
    "forecasted_df = pd.DataFrame(forecasted_values, index=test_data.index, columns=test_data.columns)\n",
    "\n",
    "print(forecasted_df.head())\n"
   ]
  },
  {
   "cell_type": "code",
   "execution_count": null,
   "id": "439b21b5",
   "metadata": {},
   "outputs": [],
   "source": []
  },
  {
   "cell_type": "code",
   "execution_count": 13,
   "id": "dab1ccf5",
   "metadata": {},
   "outputs": [
    {
     "data": {
      "text/html": [
       "<div>\n",
       "<style scoped>\n",
       "    .dataframe tbody tr th:only-of-type {\n",
       "        vertical-align: middle;\n",
       "    }\n",
       "\n",
       "    .dataframe tbody tr th {\n",
       "        vertical-align: top;\n",
       "    }\n",
       "\n",
       "    .dataframe thead th {\n",
       "        text-align: right;\n",
       "    }\n",
       "</style>\n",
       "<table border=\"1\" class=\"dataframe\">\n",
       "  <thead>\n",
       "    <tr style=\"text-align: right;\">\n",
       "      <th></th>\n",
       "      <th>MAE</th>\n",
       "      <th>RMSE</th>\n",
       "    </tr>\n",
       "  </thead>\n",
       "  <tbody>\n",
       "    <tr>\n",
       "      <th>Global_active_power</th>\n",
       "      <td>0.253515</td>\n",
       "      <td>0.327238</td>\n",
       "    </tr>\n",
       "    <tr>\n",
       "      <th>Global_reactive_power</th>\n",
       "      <td>0.023218</td>\n",
       "      <td>0.030127</td>\n",
       "    </tr>\n",
       "    <tr>\n",
       "      <th>Voltage</th>\n",
       "      <td>1.153454</td>\n",
       "      <td>1.617448</td>\n",
       "    </tr>\n",
       "    <tr>\n",
       "      <th>Global_intensity</th>\n",
       "      <td>1.039369</td>\n",
       "      <td>1.346125</td>\n",
       "    </tr>\n",
       "    <tr>\n",
       "      <th>Sub_metering_1</th>\n",
       "      <td>0.741383</td>\n",
       "      <td>1.004911</td>\n",
       "    </tr>\n",
       "    <tr>\n",
       "      <th>Sub_metering_2</th>\n",
       "      <td>0.991649</td>\n",
       "      <td>1.315495</td>\n",
       "    </tr>\n",
       "    <tr>\n",
       "      <th>Sub_metering_3</th>\n",
       "      <td>2.032625</td>\n",
       "      <td>2.549545</td>\n",
       "    </tr>\n",
       "    <tr>\n",
       "      <th>sub_metering_rem</th>\n",
       "      <td>2.13136</td>\n",
       "      <td>2.640796</td>\n",
       "    </tr>\n",
       "  </tbody>\n",
       "</table>\n",
       "</div>"
      ],
      "text/plain": [
       "                            MAE      RMSE\n",
       "Global_active_power    0.253515  0.327238\n",
       "Global_reactive_power  0.023218  0.030127\n",
       "Voltage                1.153454  1.617448\n",
       "Global_intensity       1.039369  1.346125\n",
       "Sub_metering_1         0.741383  1.004911\n",
       "Sub_metering_2         0.991649  1.315495\n",
       "Sub_metering_3         2.032625  2.549545\n",
       "sub_metering_rem        2.13136  2.640796"
      ]
     },
     "execution_count": 13,
     "metadata": {},
     "output_type": "execute_result"
    }
   ],
   "source": [
    "import pandas as pd\n",
    "from sklearn.metrics import mean_absolute_error, mean_squared_error\n",
    "\n",
    "test_data_path = '/Users/rohitsharma/Desktop/Dataset/test_data_unscaled.csv'\n",
    "test_data = pd.read_csv(test_data_path, index_col='DateTime', parse_dates=True)\n",
    "\n",
    "\n",
    "forecasted_df = pd.DataFrame(index=test_data.index, columns=test_data.columns)\n",
    "for col in forecasted_df.columns:\n",
    "    forecasted_df[col] = test_data[col].mean() \n",
    "\n",
    "#MAE & RMSE\n",
    "metrics = pd.DataFrame(index=test_data.columns, columns=['MAE', 'RMSE'])\n",
    "\n",
    "for col in test_data.columns:\n",
    "    mae = mean_absolute_error(test_data[col], forecasted_df[col])\n",
    "    rmse = mean_squared_error(test_data[col], forecasted_df[col], squared=False)\n",
    "    metrics.loc[col, 'MAE'] = mae\n",
    "    metrics.loc[col, 'RMSE'] = rmse\n",
    "\n",
    "metrics"
   ]
  },
  {
   "cell_type": "code",
   "execution_count": null,
   "id": "80868cd7",
   "metadata": {},
   "outputs": [],
   "source": [
    "#MAPE "
   ]
  },
  {
   "cell_type": "code",
   "execution_count": 17,
   "id": "799bcddc",
   "metadata": {},
   "outputs": [
    {
     "data": {
      "text/plain": [
       "{'Global_active_power': 0.10378850462508482,\n",
       " 'Global_reactive_power': 0.12345634246728072,\n",
       " 'Voltage': 0.0033690439004165386,\n",
       " 'Global_intensity': 0.1015994193508617,\n",
       " 'Sub_metering_1': 992500774155435.4,\n",
       " 'Sub_metering_2': 1.7986353922714258,\n",
       " 'Sub_metering_3': 0.17308247871165192,\n",
       " 'sub_metering_rem': 0.10366718084941003}"
      ]
     },
     "execution_count": 17,
     "metadata": {},
     "output_type": "execute_result"
    }
   ],
   "source": [
    "from sklearn.metrics import mean_absolute_percentage_error\n",
    "\n",
    "test_data_path = '/Users/rohitsharma/Desktop/Dataset/test_data_unscaled.csv'\n",
    "test_data = pd.read_csv(test_data_path, index_col='DateTime', parse_dates=True)\n",
    "\n",
    "# Truncate the test data to only the forecasted period for a fair comparison\n",
    "test_data = test_data.loc[forecasted_df.index]\n",
    "\n",
    "# Calculate MAPE for each variable and store in a dictionary\n",
    "mape_scores = {}\n",
    "for column in forecasted_df.columns:\n",
    "    mape_scores[column] = mean_absolute_percentage_error(test_data[column], forecasted_df[column])\n",
    "\n",
    "mape_scores\n"
   ]
  },
  {
   "cell_type": "code",
   "execution_count": null,
   "id": "ba320ba9",
   "metadata": {},
   "outputs": [],
   "source": [
    "# Lag order = 1"
   ]
  },
  {
   "cell_type": "code",
   "execution_count": 21,
   "id": "8f368c6d",
   "metadata": {},
   "outputs": [
    {
     "name": "stderr",
     "output_type": "stream",
     "text": [
      "/Users/rohitsharma/anaconda3/lib/python3.11/site-packages/statsmodels/tsa/base/tsa_model.py:473: ValueWarning: No frequency information was provided, so inferred frequency D will be used.\n",
      "  self._init_dates(dates, freq)\n"
     ]
    },
    {
     "data": {
      "text/html": [
       "<div>\n",
       "<style scoped>\n",
       "    .dataframe tbody tr th:only-of-type {\n",
       "        vertical-align: middle;\n",
       "    }\n",
       "\n",
       "    .dataframe tbody tr th {\n",
       "        vertical-align: top;\n",
       "    }\n",
       "\n",
       "    .dataframe thead th {\n",
       "        text-align: right;\n",
       "    }\n",
       "</style>\n",
       "<table border=\"1\" class=\"dataframe\">\n",
       "  <thead>\n",
       "    <tr style=\"text-align: right;\">\n",
       "      <th></th>\n",
       "      <th>Global_active_power</th>\n",
       "      <th>Global_reactive_power</th>\n",
       "      <th>Voltage</th>\n",
       "      <th>Global_intensity</th>\n",
       "      <th>Sub_metering_1</th>\n",
       "      <th>Sub_metering_2</th>\n",
       "      <th>Sub_metering_3</th>\n",
       "      <th>sub_metering_rem</th>\n",
       "    </tr>\n",
       "  </thead>\n",
       "  <tbody>\n",
       "    <tr>\n",
       "      <th>2009-09-14</th>\n",
       "      <td>0.980385</td>\n",
       "      <td>0.164410</td>\n",
       "      <td>240.284558</td>\n",
       "      <td>4.227515</td>\n",
       "      <td>1.358673</td>\n",
       "      <td>1.320824</td>\n",
       "      <td>5.903689</td>\n",
       "      <td>7.756570</td>\n",
       "    </tr>\n",
       "    <tr>\n",
       "      <th>2009-09-15</th>\n",
       "      <td>0.938343</td>\n",
       "      <td>0.152546</td>\n",
       "      <td>240.261426</td>\n",
       "      <td>4.045166</td>\n",
       "      <td>1.178369</td>\n",
       "      <td>1.263670</td>\n",
       "      <td>5.528950</td>\n",
       "      <td>7.668069</td>\n",
       "    </tr>\n",
       "    <tr>\n",
       "      <th>2009-09-16</th>\n",
       "      <td>0.934860</td>\n",
       "      <td>0.144907</td>\n",
       "      <td>240.218978</td>\n",
       "      <td>4.023752</td>\n",
       "      <td>1.118597</td>\n",
       "      <td>1.268495</td>\n",
       "      <td>5.474270</td>\n",
       "      <td>7.719639</td>\n",
       "    </tr>\n",
       "    <tr>\n",
       "      <th>2009-09-17</th>\n",
       "      <td>0.944285</td>\n",
       "      <td>0.139638</td>\n",
       "      <td>240.180222</td>\n",
       "      <td>4.057320</td>\n",
       "      <td>1.101897</td>\n",
       "      <td>1.277796</td>\n",
       "      <td>5.502046</td>\n",
       "      <td>7.856341</td>\n",
       "    </tr>\n",
       "    <tr>\n",
       "      <th>2009-09-18</th>\n",
       "      <td>0.957742</td>\n",
       "      <td>0.135817</td>\n",
       "      <td>240.151158</td>\n",
       "      <td>4.108911</td>\n",
       "      <td>1.099744</td>\n",
       "      <td>1.289369</td>\n",
       "      <td>5.550634</td>\n",
       "      <td>8.022618</td>\n",
       "    </tr>\n",
       "  </tbody>\n",
       "</table>\n",
       "</div>"
      ],
      "text/plain": [
       "            Global_active_power  Global_reactive_power     Voltage  \\\n",
       "2009-09-14             0.980385               0.164410  240.284558   \n",
       "2009-09-15             0.938343               0.152546  240.261426   \n",
       "2009-09-16             0.934860               0.144907  240.218978   \n",
       "2009-09-17             0.944285               0.139638  240.180222   \n",
       "2009-09-18             0.957742               0.135817  240.151158   \n",
       "\n",
       "            Global_intensity  Sub_metering_1  Sub_metering_2  Sub_metering_3  \\\n",
       "2009-09-14          4.227515        1.358673        1.320824        5.903689   \n",
       "2009-09-15          4.045166        1.178369        1.263670        5.528950   \n",
       "2009-09-16          4.023752        1.118597        1.268495        5.474270   \n",
       "2009-09-17          4.057320        1.101897        1.277796        5.502046   \n",
       "2009-09-18          4.108911        1.099744        1.289369        5.550634   \n",
       "\n",
       "            sub_metering_rem  \n",
       "2009-09-14          7.756570  \n",
       "2009-09-15          7.668069  \n",
       "2009-09-16          7.719639  \n",
       "2009-09-17          7.856341  \n",
       "2009-09-18          8.022618  "
      ]
     },
     "execution_count": 21,
     "metadata": {},
     "output_type": "execute_result"
    }
   ],
   "source": [
    "model = VAR(train_data)\n",
    "model_fitted = model.fit(1)  \n",
    "\n",
    "# Forecast future values using the model for the length of the test dataset\n",
    "lag_order = model_fitted.k_ar\n",
    "forecasted_values = model_fitted.forecast(train_data.values[-lag_order:], steps=len(test_data))\n",
    "\n",
    "forecasted_df = pd.DataFrame(forecasted_values, index=test_data.index, columns=test_data.columns)\n",
    "\n",
    "forecasted_df.head()"
   ]
  },
  {
   "cell_type": "code",
   "execution_count": 27,
   "id": "1f5392b8",
   "metadata": {},
   "outputs": [
    {
     "name": "stdout",
     "output_type": "stream",
     "text": [
      "            Global_active_power  Global_reactive_power     Voltage  \\\n",
      "2009-09-14             0.932150               0.156724  240.290039   \n",
      "2009-09-15             0.875355               0.151180  240.281300   \n",
      "2009-09-16             0.879338               0.146705  240.209984   \n",
      "2009-09-17             0.883633               0.143099  240.153687   \n",
      "2009-09-18             0.893798               0.140205  240.104933   \n",
      "\n",
      "            Global_intensity  Sub_metering_1  Sub_metering_2  Sub_metering_3  \\\n",
      "2009-09-14          4.014959        1.023846        1.355370        7.175095   \n",
      "2009-09-15          3.774254        1.049275        1.243467        6.266818   \n",
      "2009-09-16          3.789852        1.141703        1.139438        5.864518   \n",
      "2009-09-17          3.806476        1.086757        1.194278        5.661482   \n",
      "2009-09-18          3.847168        1.066372        1.225657        5.573303   \n",
      "\n",
      "            sub_metering_rem  \n",
      "2009-09-14          5.981523  \n",
      "2009-09-15          6.029693  \n",
      "2009-09-16          6.509967  \n",
      "2009-09-17          6.784698  \n",
      "2009-09-18          7.031309  \n"
     ]
    },
    {
     "name": "stderr",
     "output_type": "stream",
     "text": [
      "/Users/rohitsharma/anaconda3/lib/python3.11/site-packages/statsmodels/tsa/base/tsa_model.py:473: ValueWarning: No frequency information was provided, so inferred frequency D will be used.\n",
      "  self._init_dates(dates, freq)\n"
     ]
    }
   ],
   "source": [
    "from statsmodels.tsa.api import VAR\n",
    "import pandas as pd\n",
    "\n",
    "selected_lag_order = 2  \n",
    "\n",
    "model = VAR(train_data)\n",
    "model_fitted = model.fit(selected_lag_order)\n",
    "\n",
    "last_observations = train_data.values[-selected_lag_order:]\n",
    "\n",
    "# Specify the number of steps you want to forecast\n",
    "n_forecast_steps = 5\n",
    "forecasted_values = model_fitted.forecast(last_observations, steps=n_forecast_steps)\n",
    "\n",
    "# Create a DataFrame for the forecasted values\n",
    "# Assuming the forecast should start the day after the last observation in the train_data\n",
    "forecast_index = pd.date_range(start=train_data.index[-1] + pd.Timedelta(days=1), periods=n_forecast_steps, freq='D')\n",
    "forecasted_df = pd.DataFrame(forecasted_values, index=forecast_index, columns=train_data.columns)\n",
    "\n",
    "# Display the forecasted values\n",
    "print(forecasted_df.head())\n"
   ]
  },
  {
   "cell_type": "code",
   "execution_count": null,
   "id": "41c857fc",
   "metadata": {},
   "outputs": [],
   "source": []
  },
  {
   "cell_type": "code",
   "execution_count": 31,
   "id": "3d7781bd",
   "metadata": {},
   "outputs": [
    {
     "name": "stderr",
     "output_type": "stream",
     "text": [
      "/Users/rohitsharma/anaconda3/lib/python3.11/site-packages/statsmodels/tsa/base/tsa_model.py:473: ValueWarning: No frequency information was provided, so inferred frequency D will be used.\n",
      "  self._init_dates(dates, freq)\n"
     ]
    },
    {
     "data": {
      "image/png": "[encoded data removed]",
      "text/plain": [
       "<Figure size 1400x700 with 1 Axes>"
      ]
     },
     "metadata": {},
     "output_type": "display_data"
    }
   ],
   "source": [
    "# Combine the train and test datasets for plotting\n",
    "full_data = pd.concat([train_data, test_data])\n",
    "\n",
    "# Fit the VAR model with the selected lag order to the train data\n",
    "model = VAR(train_data)\n",
    "model_fitted = model.fit(1)  # The lag order is specified as 1\n",
    "\n",
    "# Forecast future values using the fitted model\n",
    "# We take the last 'lag_order' observations from the training data to make forecasts\n",
    "lag_order = model_fitted.k_ar\n",
    "last_obs = train_data.values[-lag_order:]\n",
    "forecasted_values = model_fitted.forecast(last_obs, steps=len(test_data))\n",
    "\n",
    "# Create a DataFrame for the forecasted values\n",
    "forecasted_df = pd.DataFrame(forecasted_values, index=test_data.index, columns=test_data.columns)\n",
    "\n",
    "# Plot the actual and forecasted values for comparison\n",
    "plt.figure(figsize=(14, 7))\n",
    "\n",
    "# Plot the actual values from the combined dataset (blue)\n",
    "plt.plot(full_data.index, full_data['Global_active_power'], label='Actual', color='blue')\n",
    "\n",
    "# Plot the forecasted values (red)\n",
    "plt.plot(forecasted_df.index, forecasted_df['Global_active_power'], label='VAR Forecasted', color='red', linestyle='--')\n",
    "\n",
    "plt.title('Actual vs VAR Forecasted Global Active Power (2007-2011)')\n",
    "plt.xlabel('Date')\n",
    "plt.ylabel('Global Active Power (kilowatts)')\n",
    "plt.legend()\n",
    "plt.show()"
   ]
  },
  {
   "cell_type": "code",
   "execution_count": null,
   "id": "704da5d0",
   "metadata": {},
   "outputs": [],
   "source": []
  }
 ],
 "metadata": {
  "kernelspec": {
   "display_name": "Python 3 (ipykernel)",
   "language": "python",
   "name": "python3"
  },
  "language_info": {
   "codemirror_mode": {
    "name": "ipython",
    "version": 3
   },
   "file_extension": ".py",
   "mimetype": "text/x-python",
   "name": "python",
   "nbconvert_exporter": "python",
   "pygments_lexer": "ipython3",
   "version": "3.11.5"
  }
 },
 "nbformat": 4,
 "nbformat_minor": 5
}
